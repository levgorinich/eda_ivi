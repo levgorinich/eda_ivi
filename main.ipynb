{
 "cells": [
  {
   "cell_type": "markdown",
   "metadata": {},
   "source": [
    "## Exploratory data analysis for ivi movies"
   ]
  },
  {
   "cell_type": "code",
   "execution_count": 175,
   "metadata": {},
   "outputs": [],
   "source": [
    "import numpy as np\n",
    "import pandas as pd\n",
    "from matplotlib import pyplot as plt\n",
    "\n",
    "%matplotlib inline"
   ]
  },
  {
   "cell_type": "markdown",
   "metadata": {},
   "source": [
    "## First Step\n",
    "\n",
    "### Getting to know the data "
   ]
  },
  {
   "cell_type": "code",
   "execution_count": 176,
   "metadata": {},
   "outputs": [],
   "source": [
    "df = pd.read_csv(\"data_before.csv\",index_col=0)"
   ]
  },
  {
   "cell_type": "code",
   "execution_count": 177,
   "metadata": {},
   "outputs": [
    {
     "data": {
      "text/html": [
       "<div>\n",
       "<style scoped>\n",
       "    .dataframe tbody tr th:only-of-type {\n",
       "        vertical-align: middle;\n",
       "    }\n",
       "\n",
       "    .dataframe tbody tr th {\n",
       "        vertical-align: top;\n",
       "    }\n",
       "\n",
       "    .dataframe thead th {\n",
       "        text-align: right;\n",
       "    }\n",
       "</style>\n",
       "<table border=\"1\" class=\"dataframe\">\n",
       "  <thead>\n",
       "    <tr style=\"text-align: right;\">\n",
       "      <th></th>\n",
       "      <th>Name</th>\n",
       "      <th>Year</th>\n",
       "      <th>Duration</th>\n",
       "      <th>Age_restriction</th>\n",
       "      <th>Country</th>\n",
       "      <th>Genre</th>\n",
       "      <th>Rating</th>\n",
       "      <th>Number_of_reviews</th>\n",
       "    </tr>\n",
       "  </thead>\n",
       "  <tbody>\n",
       "    <tr>\n",
       "      <th>0</th>\n",
       "      <td>777 Чарли</td>\n",
       "      <td>2022</td>\n",
       "      <td>163</td>\n",
       "      <td>16+</td>\n",
       "      <td>Индия</td>\n",
       "      <td>Драмы</td>\n",
       "      <td>9.3</td>\n",
       "      <td>35.0</td>\n",
       "    </tr>\n",
       "    <tr>\n",
       "      <th>1</th>\n",
       "      <td>1+1</td>\n",
       "      <td>2011</td>\n",
       "      <td>112</td>\n",
       "      <td>18+</td>\n",
       "      <td>Франция</td>\n",
       "      <td>Драмы</td>\n",
       "      <td>9.0</td>\n",
       "      <td>390.0</td>\n",
       "    </tr>\n",
       "    <tr>\n",
       "      <th>2</th>\n",
       "      <td>Леон</td>\n",
       "      <td>1994</td>\n",
       "      <td>124</td>\n",
       "      <td>16+</td>\n",
       "      <td>Франция</td>\n",
       "      <td>Триллеры</td>\n",
       "      <td>8.9</td>\n",
       "      <td>3.0</td>\n",
       "    </tr>\n",
       "    <tr>\n",
       "      <th>3</th>\n",
       "      <td>Зеленая книга</td>\n",
       "      <td>2018</td>\n",
       "      <td>124</td>\n",
       "      <td>18+</td>\n",
       "      <td>США</td>\n",
       "      <td>Комедии</td>\n",
       "      <td>9.1</td>\n",
       "      <td>227.0</td>\n",
       "    </tr>\n",
       "    <tr>\n",
       "      <th>4</th>\n",
       "      <td>Бойцовский клуб</td>\n",
       "      <td>1999</td>\n",
       "      <td>133</td>\n",
       "      <td>18+</td>\n",
       "      <td>США</td>\n",
       "      <td>Триллеры</td>\n",
       "      <td>8.6</td>\n",
       "      <td>27.0</td>\n",
       "    </tr>\n",
       "  </tbody>\n",
       "</table>\n",
       "</div>"
      ],
      "text/plain": [
       "               Name  Year Duration Age_restriction  Country     Genre  Rating  \\\n",
       "0        777 Чарли   2022      163             16+    Индия     Драмы     9.3   \n",
       "1              1+1   2011      112             18+  Франция     Драмы     9.0   \n",
       "2             Леон   1994      124             16+  Франция  Триллеры     8.9   \n",
       "3    Зеленая книга   2018      124             18+      США   Комедии     9.1   \n",
       "4  Бойцовский клуб   1999      133             18+      США  Триллеры     8.6   \n",
       "\n",
       "   Number_of_reviews  \n",
       "0               35.0  \n",
       "1              390.0  \n",
       "2                3.0  \n",
       "3              227.0  \n",
       "4               27.0  "
      ]
     },
     "execution_count": 177,
     "metadata": {},
     "output_type": "execute_result"
    }
   ],
   "source": [
    "df.head()"
   ]
  },
  {
   "cell_type": "code",
   "execution_count": 178,
   "metadata": {},
   "outputs": [
    {
     "name": "stdout",
     "output_type": "stream",
     "text": [
      "<class 'pandas.core.frame.DataFrame'>\n",
      "Index: 120 entries, 0 to 119\n",
      "Data columns (total 8 columns):\n",
      " #   Column             Non-Null Count  Dtype  \n",
      "---  ------             --------------  -----  \n",
      " 0   Name               120 non-null    object \n",
      " 1   Year               120 non-null    int64  \n",
      " 2   Duration           120 non-null    object \n",
      " 3   Age_restriction    120 non-null    object \n",
      " 4   Country            120 non-null    object \n",
      " 5   Genre              120 non-null    object \n",
      " 6   Rating             120 non-null    float64\n",
      " 7   Number_of_reviews  88 non-null     float64\n",
      "dtypes: float64(2), int64(1), object(5)\n",
      "memory usage: 8.4+ KB\n"
     ]
    }
   ],
   "source": [
    "df.info()"
   ]
  },
  {
   "cell_type": "code",
   "execution_count": 179,
   "metadata": {},
   "outputs": [],
   "source": [
    "df.rename(columns={\"Duration\":\"Duration,m\"},inplace=True)"
   ]
  },
  {
   "cell_type": "markdown",
   "metadata": {},
   "source": [
    "### Checking for None"
   ]
  },
  {
   "cell_type": "code",
   "execution_count": 180,
   "metadata": {},
   "outputs": [
    {
     "data": {
      "text/plain": [
       "Name                 0.000000\n",
       "Year                 0.000000\n",
       "Duration,m           0.000000\n",
       "Age_restriction      0.000000\n",
       "Country              0.000000\n",
       "Genre                0.000000\n",
       "Rating               0.000000\n",
       "Number_of_reviews    0.266667\n",
       "dtype: float64"
      ]
     },
     "execution_count": 180,
     "metadata": {},
     "output_type": "execute_result"
    }
   ],
   "source": [
    "df.isna().mean()"
   ]
  },
  {
   "cell_type": "markdown",
   "metadata": {},
   "source": [
    "We can notice there is none in the column \"Number_of_reviews\""
   ]
  },
  {
   "cell_type": "markdown",
   "metadata": {},
   "source": [
    "We will replace None with 0. This will mean that there are no comments"
   ]
  },
  {
   "cell_type": "code",
   "execution_count": 181,
   "metadata": {},
   "outputs": [],
   "source": [
    "df.Number_of_reviews.fillna(0,inplace=True)"
   ]
  },
  {
   "cell_type": "code",
   "execution_count": 182,
   "metadata": {},
   "outputs": [
    {
     "data": {
      "text/plain": [
       "Name                 0.0\n",
       "Year                 0.0\n",
       "Duration,m           0.0\n",
       "Age_restriction      0.0\n",
       "Country              0.0\n",
       "Genre                0.0\n",
       "Rating               0.0\n",
       "Number_of_reviews    0.0\n",
       "dtype: float64"
      ]
     },
     "execution_count": 182,
     "metadata": {},
     "output_type": "execute_result"
    }
   ],
   "source": [
    "df.isna().mean()"
   ]
  },
  {
   "cell_type": "markdown",
   "metadata": {},
   "source": [
    "### Checking for Duplicates"
   ]
  },
  {
   "cell_type": "markdown",
   "metadata": {},
   "source": [
    "let's check if there are matching rows. Delete them, if any"
   ]
  },
  {
   "cell_type": "code",
   "execution_count": 183,
   "metadata": {},
   "outputs": [
    {
     "data": {
      "text/plain": [
       "Name                 30\n",
       "Year                 30\n",
       "Duration,m           30\n",
       "Age_restriction      30\n",
       "Country              30\n",
       "Genre                30\n",
       "Rating               30\n",
       "Number_of_reviews    30\n",
       "dtype: int64"
      ]
     },
     "execution_count": 183,
     "metadata": {},
     "output_type": "execute_result"
    }
   ],
   "source": [
    "df[df.duplicated() == True].count()"
   ]
  },
  {
   "cell_type": "code",
   "execution_count": 184,
   "metadata": {},
   "outputs": [],
   "source": [
    "df = df.drop_duplicates().reset_index(drop=True)"
   ]
  },
  {
   "cell_type": "code",
   "execution_count": 185,
   "metadata": {},
   "outputs": [
    {
     "data": {
      "text/plain": [
       "0"
      ]
     },
     "execution_count": 185,
     "metadata": {},
     "output_type": "execute_result"
    }
   ],
   "source": [
    "df.duplicated().sum()"
   ]
  },
  {
   "cell_type": "markdown",
   "metadata": {},
   "source": [
    "### Data types"
   ]
  },
  {
   "cell_type": "code",
   "execution_count": 186,
   "metadata": {},
   "outputs": [
    {
     "data": {
      "text/plain": [
       "Name                  object\n",
       "Year                   int64\n",
       "Duration,m            object\n",
       "Age_restriction       object\n",
       "Country               object\n",
       "Genre                 object\n",
       "Rating               float64\n",
       "Number_of_reviews    float64\n",
       "dtype: object"
      ]
     },
     "execution_count": 186,
     "metadata": {},
     "output_type": "execute_result"
    }
   ],
   "source": [
    "df.dtypes"
   ]
  },
  {
   "cell_type": "markdown",
   "metadata": {},
   "source": [
    "let's change the data type for duration and for Number_of_reviews    "
   ]
  },
  {
   "cell_type": "code",
   "execution_count": 187,
   "metadata": {},
   "outputs": [
    {
     "data": {
      "text/plain": [
       "0        163\n",
       "1        112\n",
       "2        124\n",
       "3        124\n",
       "4        133\n",
       "5         92\n",
       "6        122\n",
       "7    2 серии\n",
       "8        100\n",
       "9        132\n",
       "Name: Duration,m, dtype: object"
      ]
     },
     "execution_count": 187,
     "metadata": {},
     "output_type": "execute_result"
    }
   ],
   "source": [
    "df[\"Duration,m\"].head(10)"
   ]
  },
  {
   "cell_type": "markdown",
   "metadata": {},
   "source": [
    "We can see that in our data, in addition to movies, there are also series. We analyze the best movies, so we will delete the lines with the series"
   ]
  },
  {
   "cell_type": "code",
   "execution_count": 188,
   "metadata": {},
   "outputs": [],
   "source": [
    "def drop_series(df):\n",
    "    indx = []\n",
    "    for i in df[\"Duration,m\"].index:\n",
    "        if df[\"Duration,m\"].values[i].isdigit():\n",
    "            pass\n",
    "        else:\n",
    "            indx.append(i)\n",
    "    df.drop(index=indx,axis=0,inplace=True)\n",
    "    df.reset_index(drop=True)\n"
   ]
  },
  {
   "cell_type": "code",
   "execution_count": 189,
   "metadata": {},
   "outputs": [],
   "source": [
    "drop_series(df)\n",
    "df[\"Duration,m\"] = df[\"Duration,m\"].astype(\"int64\")"
   ]
  },
  {
   "cell_type": "code",
   "execution_count": 191,
   "metadata": {},
   "outputs": [],
   "source": [
    "df.Number_of_reviews = df.Number_of_reviews.astype(\"int64\")"
   ]
  },
  {
   "cell_type": "code",
   "execution_count": 194,
   "metadata": {},
   "outputs": [
    {
     "data": {
      "text/plain": [
       "Name                  object\n",
       "Year                   int64\n",
       "Duration,m             int64\n",
       "Age_restriction       object\n",
       "Country               object\n",
       "Genre                 object\n",
       "Rating               float64\n",
       "Number_of_reviews      int64\n",
       "dtype: object"
      ]
     },
     "execution_count": 194,
     "metadata": {},
     "output_type": "execute_result"
    }
   ],
   "source": [
    "df.dtypes"
   ]
  },
  {
   "cell_type": "code",
   "execution_count": 193,
   "metadata": {},
   "outputs": [
    {
     "data": {
      "text/html": [
       "<div>\n",
       "<style scoped>\n",
       "    .dataframe tbody tr th:only-of-type {\n",
       "        vertical-align: middle;\n",
       "    }\n",
       "\n",
       "    .dataframe tbody tr th {\n",
       "        vertical-align: top;\n",
       "    }\n",
       "\n",
       "    .dataframe thead th {\n",
       "        text-align: right;\n",
       "    }\n",
       "</style>\n",
       "<table border=\"1\" class=\"dataframe\">\n",
       "  <thead>\n",
       "    <tr style=\"text-align: right;\">\n",
       "      <th></th>\n",
       "      <th>Name</th>\n",
       "      <th>Year</th>\n",
       "      <th>Duration,m</th>\n",
       "      <th>Age_restriction</th>\n",
       "      <th>Country</th>\n",
       "      <th>Genre</th>\n",
       "      <th>Rating</th>\n",
       "      <th>Number_of_reviews</th>\n",
       "    </tr>\n",
       "  </thead>\n",
       "  <tbody>\n",
       "    <tr>\n",
       "      <th>0</th>\n",
       "      <td>777 Чарли</td>\n",
       "      <td>2022</td>\n",
       "      <td>163</td>\n",
       "      <td>16+</td>\n",
       "      <td>Индия</td>\n",
       "      <td>Драмы</td>\n",
       "      <td>9.3</td>\n",
       "      <td>35</td>\n",
       "    </tr>\n",
       "    <tr>\n",
       "      <th>1</th>\n",
       "      <td>1+1</td>\n",
       "      <td>2011</td>\n",
       "      <td>112</td>\n",
       "      <td>18+</td>\n",
       "      <td>Франция</td>\n",
       "      <td>Драмы</td>\n",
       "      <td>9.0</td>\n",
       "      <td>390</td>\n",
       "    </tr>\n",
       "    <tr>\n",
       "      <th>2</th>\n",
       "      <td>Леон</td>\n",
       "      <td>1994</td>\n",
       "      <td>124</td>\n",
       "      <td>16+</td>\n",
       "      <td>Франция</td>\n",
       "      <td>Триллеры</td>\n",
       "      <td>8.9</td>\n",
       "      <td>3</td>\n",
       "    </tr>\n",
       "    <tr>\n",
       "      <th>3</th>\n",
       "      <td>Зеленая книга</td>\n",
       "      <td>2018</td>\n",
       "      <td>124</td>\n",
       "      <td>18+</td>\n",
       "      <td>США</td>\n",
       "      <td>Комедии</td>\n",
       "      <td>9.1</td>\n",
       "      <td>227</td>\n",
       "    </tr>\n",
       "    <tr>\n",
       "      <th>4</th>\n",
       "      <td>Бойцовский клуб</td>\n",
       "      <td>1999</td>\n",
       "      <td>133</td>\n",
       "      <td>18+</td>\n",
       "      <td>США</td>\n",
       "      <td>Триллеры</td>\n",
       "      <td>8.6</td>\n",
       "      <td>27</td>\n",
       "    </tr>\n",
       "  </tbody>\n",
       "</table>\n",
       "</div>"
      ],
      "text/plain": [
       "               Name  Year  Duration,m Age_restriction  Country     Genre  \\\n",
       "0        777 Чарли   2022         163             16+    Индия     Драмы   \n",
       "1              1+1   2011         112             18+  Франция     Драмы   \n",
       "2             Леон   1994         124             16+  Франция  Триллеры   \n",
       "3    Зеленая книга   2018         124             18+      США   Комедии   \n",
       "4  Бойцовский клуб   1999         133             18+      США  Триллеры   \n",
       "\n",
       "   Rating  Number_of_reviews  \n",
       "0     9.3                 35  \n",
       "1     9.0                390  \n",
       "2     8.9                  3  \n",
       "3     9.1                227  \n",
       "4     8.6                 27  "
      ]
     },
     "execution_count": 193,
     "metadata": {},
     "output_type": "execute_result"
    }
   ],
   "source": [
    "df.head()"
   ]
  },
  {
   "cell_type": "markdown",
   "metadata": {},
   "source": [
    "## Second Step\n",
    "\n",
    "### Visualization for Data Analysis"
   ]
  },
  {
   "cell_type": "code",
   "execution_count": null,
   "metadata": {},
   "outputs": [],
   "source": []
  }
 ],
 "metadata": {
  "kernelspec": {
   "display_name": "venv",
   "language": "python",
   "name": "python3"
  },
  "language_info": {
   "codemirror_mode": {
    "name": "ipython",
    "version": 3
   },
   "file_extension": ".py",
   "mimetype": "text/x-python",
   "name": "python",
   "nbconvert_exporter": "python",
   "pygments_lexer": "ipython3",
   "version": "3.11.5"
  },
  "orig_nbformat": 4
 },
 "nbformat": 4,
 "nbformat_minor": 2
}
