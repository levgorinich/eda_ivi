{
 "cells": [
  {
   "cell_type": "code",
   "execution_count": 3,
   "metadata": {},
   "outputs": [],
   "source": [
    "## import libraries\n",
    "\n",
    "from requests import get\n",
    "import numpy as np\n",
    "import pandas as pd\n",
    "import time \n",
    "from fake_useragent import UserAgent\n",
    "from bs4 import BeautifulSoup\n",
    "from tqdm import tqdm"
   ]
  },
  {
   "cell_type": "code",
   "execution_count": 4,
   "metadata": {},
   "outputs": [],
   "source": [
    "## assign constants\n",
    "\n",
    "page_link = \"https://www.ivi.ru/collections/best-movies/\"\n",
    "url = \"https://www.ivi.ru\""
   ]
  },
  {
   "cell_type": "code",
   "execution_count": 5,
   "metadata": {},
   "outputs": [],
   "source": [
    "## Getting links\n",
    "\n",
    "def get_page(page_link):\n",
    "    response = get(page_link, headers={\"User-Agent\":UserAgent().chrome})\n",
    "    return response.content\n",
    "\n",
    "def parse_page_content(content,links):\n",
    "    soup = BeautifulSoup(content,'html.parser')\n",
    "    a = soup.find_all(\"a\",{\"class\":\"nbl-slimPosterBlock nbl-slimPosterBlock_type_poster nbl-slimPosterBlock_iconStatus_none nbl-slimPosterBlock_available collections__nbl-slimPosterBlock\"})\n",
    "    for item in a:\n",
    "        links.append(item.get(\"href\"))\n",
    "\n",
    "def scroll_page(page_link):\n",
    "    page_number = 1\n",
    "    links = []\n",
    "    while True:\n",
    "        new_url = page_link + f'page{page_number}?sort=pop'\n",
    "        content = get_page(new_url)\n",
    "        parse_page_content(content,links)\n",
    "        page_number += 1\n",
    "        if page_number == 5:\n",
    "            break\n",
    "    return links\n"
   ]
  },
  {
   "cell_type": "code",
   "execution_count": 6,
   "metadata": {},
   "outputs": [
    {
     "data": {
      "text/plain": [
       "['/watch/516421',\n",
       " '/watch/109726',\n",
       " '/watch/100130',\n",
       " '/watch/210332',\n",
       " '/watch/87485',\n",
       " '/watch/515403',\n",
       " '/watch/33560',\n",
       " '/watch/titanik',\n",
       " '/watch/100018',\n",
       " '/watch/89599']"
      ]
     },
     "execution_count": 6,
     "metadata": {},
     "output_type": "execute_result"
    }
   ],
   "source": [
    "## links to the best films\n",
    "links = scroll_page(page_link)\n",
    "links[:10]"
   ]
  },
  {
   "cell_type": "code",
   "execution_count": 7,
   "metadata": {},
   "outputs": [
    {
     "data": {
      "text/plain": [
       "120"
      ]
     },
     "execution_count": 7,
     "metadata": {},
     "output_type": "execute_result"
    }
   ],
   "source": [
    "len(links)"
   ]
  },
  {
   "cell_type": "code",
   "execution_count": 8,
   "metadata": {},
   "outputs": [],
   "source": [
    "def convert_into_minute(s):\n",
    "    try:\n",
    "        s = s.split(\" \")\n",
    "        k = []\n",
    "        for i in s:\n",
    "            if i == \"ч.\":\n",
    "                h = 60\n",
    "            elif i == \"мин.\":\n",
    "                m = 1\n",
    "            elif i.isnumeric():\n",
    "                k.append(int(i))\n",
    "\n",
    "        if len(k) == 2:\n",
    "            s = k[0]*h + k[1]*m\n",
    "        else:\n",
    "            s = k[0]*m\n",
    "        return s\n",
    "    except:\n",
    "        s = \" \".join(s)\n",
    "        return s"
   ]
  },
  {
   "cell_type": "code",
   "execution_count": 12,
   "metadata": {},
   "outputs": [],
   "source": [
    "## Getting necessary content\n",
    "def get_content_about_film(url):\n",
    "    film_name = []\n",
    "    film_year = []\n",
    "    film_duration = []\n",
    "    film_age_restriction = []\n",
    "    film_country = []\n",
    "    film_genre = []\n",
    "    film_rating = []\n",
    "    film_number_of_reviews = []\n",
    "    for i in tqdm(links):\n",
    "        new_url = url + i\n",
    "        content = get_page(new_url)\n",
    "        soup = BeautifulSoup(content,'html.parser')\n",
    "        \n",
    "        name = soup.find(\"div\",{\"class\":\"watchTitle contentCard__watchTitle\"}).text\n",
    "        slice_index = name.find(\"(Фильм\")\n",
    "        name = name[:slice_index]\n",
    "        film_name.append(name)\n",
    "\n",
    "        year = soup.find(\"div\",{\"class\":\"watchParams__item\"}).text\n",
    "        film_year.append(year)\n",
    "\n",
    "        duration = soup.find(\"a\",{\"class\":\"nbl-link nbl-link_style_wovou nbl-link nbl-link_noLink\"}).text\n",
    "        duration = convert_into_minute(duration)\n",
    "        film_duration.append(duration)\n",
    "\n",
    "        age_restriction = soup.find_all(\"a\",{\"class\":\"nbl-link nbl-link_style_wovou nbl-link nbl-link_noLink\"})[1].text\n",
    "        if \"+\" not in age_restriction:\n",
    "            age_restriction = \"0+\"\n",
    "        film_age_restriction.append(age_restriction)\n",
    "\n",
    "        country = soup.find(\"div\",{\"class\":\"watchParams__item watchParams__item_hasDot\"}).text\n",
    "        film_country.append(country)\n",
    "\n",
    "        genre = soup.find_all(\"div\",{\"class\":\"watchParams__item watchParams__item_hasDot\"})[1].text\n",
    "        film_genre.append(genre)\n",
    "\n",
    "        rating = float(soup.find(\"div\",{\"class\":\"nbl-ratingPlate__value\"}).text.replace(\",\",\".\"))\n",
    "        film_rating.append(rating)\n",
    "\n",
    "        if number_of_reviews := soup.find(\"div\",{\"class\":\"nbl-superscript__text\"}):\n",
    "            number_of_reviews = number_of_reviews.text\n",
    "        else:\n",
    "            number_of_reviews = None \n",
    "        film_number_of_reviews.append(number_of_reviews)\n",
    "\n",
    "    data = {\"Name\":film_name, \"Year\":film_year, \"Duration\":film_duration, \"Age_restriction\":film_age_restriction,\n",
    "            \"Country\":film_country, \"Genre\":film_genre,\"Rating\":film_rating, \"Number_of_reviews\":film_number_of_reviews}\n",
    "\n",
    "    return data\n",
    "        \n",
    "        "
   ]
  },
  {
   "cell_type": "code",
   "execution_count": 13,
   "metadata": {},
   "outputs": [],
   "source": [
    "## creating data frame\n",
    "def create_data_frame(data):\n",
    "    df = pd.DataFrame(data=data)\n",
    "    return df"
   ]
  },
  {
   "cell_type": "code",
   "execution_count": 15,
   "metadata": {},
   "outputs": [
    {
     "name": "stderr",
     "output_type": "stream",
     "text": [
      "100%|██████████| 120/120 [01:40<00:00,  1.19it/s]\n"
     ]
    }
   ],
   "source": [
    "data = get_content_about_film(url)\n",
    "df = create_data_frame(data)"
   ]
  },
  {
   "cell_type": "code",
   "execution_count": 16,
   "metadata": {},
   "outputs": [],
   "source": [
    "df.to_csv(\"data_before.csv\")"
   ]
  },
  {
   "cell_type": "code",
   "execution_count": null,
   "metadata": {},
   "outputs": [],
   "source": []
  }
 ],
 "metadata": {
  "kernelspec": {
   "display_name": "Python 3",
   "language": "python",
   "name": "python3"
  },
  "language_info": {
   "codemirror_mode": {
    "name": "ipython",
    "version": 3
   },
   "file_extension": ".py",
   "mimetype": "text/x-python",
   "name": "python",
   "nbconvert_exporter": "python",
   "pygments_lexer": "ipython3",
   "version": "3.11.5"
  },
  "orig_nbformat": 4
 },
 "nbformat": 4,
 "nbformat_minor": 2
}
